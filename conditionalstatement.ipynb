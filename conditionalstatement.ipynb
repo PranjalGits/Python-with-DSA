{
 "cells": [
  {
   "cell_type": "code",
   "execution_count": 3,
   "metadata": {},
   "outputs": [
    {
     "name": "stdout",
     "output_type": "stream",
     "text": [
      "I am eligible to voting\n"
     ]
    }
   ],
   "source": [
    "#elif\n",
    "\n",
    "age = int(input(\"Enter the age\"))\n",
    "\n",
    "if age>18:\n",
    "  print(\"I am eligible to voting\")\n",
    "\n",
    "elif age == 18:\n",
    "  print(\"Write age of voting\")  \n",
    "\n",
    "else:\n",
    "  print(\"I an not eligible to voting\")\n",
    " \n"
   ]
  },
  {
   "cell_type": "code",
   "execution_count": 4,
   "metadata": {},
   "outputs": [
    {
     "name": "stdout",
     "output_type": "stream",
     "text": [
      "Number is Positive\n",
      "Number is Odd\n"
     ]
    }
   ],
   "source": [
    "# nested condition\n",
    "\n",
    "num = int(input(\"Enter the Number :\"))\n",
    "\n",
    "if num > 0:\n",
    "  print(\"Number is Positive\")\n",
    "\n",
    "  if num%2==0:\n",
    "    print(\"Number is even\")\n",
    "\n",
    "  else:\n",
    "    print(\"Number is Odd\")\n",
    "\n",
    "elif num == 0:\n",
    "  print(\"NUmber is Zero\")\n",
    "\n",
    "  if num > 5:\n",
    "    print(\"my CGPA is :\", num)\n",
    "\n",
    "  elif num == 5:\n",
    "    print(\"My cGPA\", num)\n",
    "\n",
    "  else:\n",
    "    print(\"College can not calculate my CGpA\")\n",
    "\n",
    "else:\n",
    "  print(\"number is negative\")   \n"
   ]
  },
  {
   "cell_type": "code",
   "execution_count": 6,
   "metadata": {},
   "outputs": [
    {
     "name": "stdout",
     "output_type": "stream",
     "text": [
      "Number is zero or Negative\n"
     ]
    }
   ],
   "source": [
    "# Check number is even, odd, postive, negative\n",
    "\n",
    "num = int(input(\"Enter the Number :\"))\n",
    "\n",
    "if num > 0:\n",
    "  print(\"Number is positive\")\n",
    "  if num%2==0:\n",
    "    print(\"Number is even\")\n",
    "  else:\n",
    "    print(\"Number is odd\")\n",
    "else:\n",
    "  print(\"Number is zero or Negative\")"
   ]
  },
  {
   "cell_type": "code",
   "execution_count": 19,
   "metadata": {},
   "outputs": [
    {
     "name": "stdout",
     "output_type": "stream",
     "text": [
      "2028 is a leap year\n"
     ]
    }
   ],
   "source": [
    "# Practice Question 1\n",
    "\n",
    "## determine the leap year or not using nested condition\n",
    "\n",
    "year = int(input(\"Enter the year : \"))\n",
    "\n",
    "if year%4==0:\n",
    "  if year%100==0:\n",
    "    if year%400==0:\n",
    "      print(year, \"is a leap year\")\n",
    "    else:\n",
    "      print(year,\"is not a leap year\")\n",
    "  else:\n",
    "    print(year,\"is a leap year\")\n",
    "else:\n",
    "  print(year, \"is not a leap year\")"
   ]
  },
  {
   "cell_type": "code",
   "execution_count": 23,
   "metadata": {},
   "outputs": [
    {
     "name": "stdout",
     "output_type": "stream",
     "text": [
      "Error!,Give only Positive Number \n"
     ]
    }
   ],
   "source": [
    "# Practice Question 2\n",
    "\n",
    "# Simple Calculator\n",
    "\n",
    "num1 = float(input(\"Enter the First Number :\"))\n",
    "num2 = float(input(\"Enter the Second Number :\"))\n",
    "operator = input(\"Choose Operator (+,-,*,/,**,//,%) :\")\n",
    "\n",
    "if (operator == \"+\"):\n",
    "  result1 = num1 + num2\n",
    "  print(\"Result of Addition Operation is :\", result1)\n",
    "elif (operator == \"-\"):\n",
    "  if (num1 > 0 and num2 > 0):\n",
    "    if (num1 >= num2):\n",
    "      result2 = num1 - num2\n",
    "      print(\"Subtraction result is :\",result2 )\n",
    "    else:\n",
    "      print(\"Error!!!,  Num1 is not greater than Num2\")\n",
    "  else:\n",
    "    print(\"Error!,Give only Positive Number \")\n",
    "elif (operator == \"*\"):\n",
    "  result = num1 * num2\n",
    "  print(\"Multiplivation is \", result)\n",
    "elif (operator == \"**\"):\n",
    "  result = num1 ** num2\n",
    "  print(\"Exponent result \", result)\n",
    "elif (operator == \"/\"):\n",
    "  if (num2 != 0):\n",
    "    result = num1 / num2\n",
    "    print(\"Division result :\", result)\n",
    "  else:\n",
    "    print(\"Error!, Deominator can not be Zero\") \n",
    "elif (operator == \"//\"):\n",
    "  result = num1//num2\n",
    "  print(\"Floor Dividion :\", result)\n",
    "elif (operator == \"%\"):\n",
    "  result = num1 % num2\n",
    "  print(\"Modulas is :\", result)\n",
    "else:\n",
    "  print(\"Error!!!!!, Please Select the correct Operator\")    \n",
    "\n",
    "    \n"
   ]
  },
  {
   "cell_type": "code",
   "execution_count": null,
   "metadata": {},
   "outputs": [],
   "source": [
    "# Practice "
   ]
  }
 ],
 "metadata": {
  "kernelspec": {
   "display_name": "Python 3",
   "language": "python",
   "name": "python3"
  },
  "language_info": {
   "codemirror_mode": {
    "name": "ipython",
    "version": 3
   },
   "file_extension": ".py",
   "mimetype": "text/x-python",
   "name": "python",
   "nbconvert_exporter": "python",
   "pygments_lexer": "ipython3",
   "version": "3.12.2"
  }
 },
 "nbformat": 4,
 "nbformat_minor": 2
}
