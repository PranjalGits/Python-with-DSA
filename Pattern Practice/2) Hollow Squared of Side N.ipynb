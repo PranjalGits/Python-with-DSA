{
 "cells": [
  {
   "cell_type": "code",
   "execution_count": 2,
   "metadata": {},
   "outputs": [
    {
     "name": "stdout",
     "output_type": "stream",
     "text": [
      "['*****', '*   *', '*   *', '*   *', '*****']\n"
     ]
    }
   ],
   "source": [
    "def generate_hollow(n):\n",
    "  square = []\n",
    "  if n==1:\n",
    "    return [\"*\"]\n",
    "  square.append(\"*\" * n)\n",
    "\n",
    "  for i in range(n-2):\n",
    "    square.append(\"*\" + \" \"*(n-2) + \"*\")\n",
    "  \n",
    "  square.append(\"*\" * n)\n",
    "  return square\n",
    "  \n",
    "\n",
    "## Calling\n",
    "\n",
    "n = 5\n",
    "print(generate_hollow(n))"
   ]
  },
  {
   "cell_type": "code",
   "execution_count": 3,
   "metadata": {},
   "outputs": [
    {
     "name": "stdout",
     "output_type": "stream",
     "text": [
      "['********', '*      *', '*      *', '*      *', '*      *', '*      *', '*      *', '********']\n"
     ]
    }
   ],
   "source": [
    "n = 8\n",
    "print(generate_hollow(n))"
   ]
  },
  {
   "cell_type": "code",
   "execution_count": null,
   "metadata": {},
   "outputs": [],
   "source": []
  }
 ],
 "metadata": {
  "kernelspec": {
   "display_name": "Python 3",
   "language": "python",
   "name": "python3"
  },
  "language_info": {
   "codemirror_mode": {
    "name": "ipython",
    "version": 3
   },
   "file_extension": ".py",
   "mimetype": "text/x-python",
   "name": "python",
   "nbconvert_exporter": "python",
   "pygments_lexer": "ipython3",
   "version": "3.12.2"
  }
 },
 "nbformat": 4,
 "nbformat_minor": 2
}
