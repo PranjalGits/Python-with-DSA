{
 "cells": [
  {
   "cell_type": "code",
   "execution_count": 1,
   "metadata": {},
   "outputs": [
    {
     "name": "stdout",
     "output_type": "stream",
     "text": [
      "*\n",
      "**\n",
      "***\n",
      "****\n",
      "*****\n",
      "None\n"
     ]
    }
   ],
   "source": [
    "def RightAngledTriangleofSide(n):\n",
    "  if n == 1:\n",
    "    print(\"*\")\n",
    "\n",
    "  for i in range(n):\n",
    "    print(\"*\" * (i+1))\n",
    "\n",
    "# Calling\n",
    "\n",
    "n = 5\n",
    "print(RightAngledTriangleofSide(n))\n"
   ]
  },
  {
   "cell_type": "code",
   "execution_count": 2,
   "metadata": {},
   "outputs": [
    {
     "name": "stdout",
     "output_type": "stream",
     "text": [
      "['*', '**', '***', '****', '*****']\n"
     ]
    }
   ],
   "source": [
    "def right_angle_triangle_2(n):\n",
    "  triangle = []\n",
    "\n",
    "  if n == 1:\n",
    "    triangle.append(\"*\")\n",
    "  else:\n",
    "    for i in range(n):\n",
    "      triangle.append(\"*\"*(i+1))\n",
    "  return triangle\n",
    "\n",
    "# Calling\n",
    "\n",
    "print(right_angle_triangle_2(5))"
   ]
  },
  {
   "cell_type": "code",
   "execution_count": null,
   "metadata": {},
   "outputs": [],
   "source": []
  }
 ],
 "metadata": {
  "kernelspec": {
   "display_name": "Python 3",
   "language": "python",
   "name": "python3"
  },
  "language_info": {
   "codemirror_mode": {
    "name": "ipython",
    "version": 3
   },
   "file_extension": ".py",
   "mimetype": "text/x-python",
   "name": "python",
   "nbconvert_exporter": "python",
   "pygments_lexer": "ipython3",
   "version": "3.12.2"
  }
 },
 "nbformat": 4,
 "nbformat_minor": 2
}
