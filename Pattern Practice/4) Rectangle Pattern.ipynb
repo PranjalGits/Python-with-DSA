{
 "cells": [
  {
   "cell_type": "code",
   "execution_count": 2,
   "metadata": {},
   "outputs": [],
   "source": [
    "def generate_rectangle(n, m):\n",
    "    \"\"\"\n",
    "    Function to return a rectangle pattern of '*' with length n and breadth m as a list of strings.\n",
    "    \n",
    "    Parameters:\n",
    "    n (int): The number of rows in the rectangle.\n",
    "    m (int): The number of columns in the rectangle.\n",
    "    \n",
    "    Returns:\n",
    "    list: A list of strings where each string represents a row of the rectangle pattern.\n",
    "    \"\"\"\n",
    "    rectangle = []\n",
    "    \n",
    "    for i in range(n):\n",
    "        rectangle.append(\"*\" * m)\n",
    "        \n",
    "    return rectangle\n",
    "    \n",
    "  \n",
    "    \n",
    "    \n"
   ]
  },
  {
   "cell_type": "code",
   "execution_count": 3,
   "metadata": {},
   "outputs": [
    {
     "name": "stdout",
     "output_type": "stream",
     "text": [
      "['****', '****', '****']\n"
     ]
    }
   ],
   "source": [
    "print(generate_rectangle(3,4))"
   ]
  },
  {
   "cell_type": "code",
   "execution_count": null,
   "metadata": {},
   "outputs": [],
   "source": []
  }
 ],
 "metadata": {
  "kernelspec": {
   "display_name": "Python 3",
   "language": "python",
   "name": "python3"
  },
  "language_info": {
   "codemirror_mode": {
    "name": "ipython",
    "version": 3
   },
   "file_extension": ".py",
   "mimetype": "text/x-python",
   "name": "python",
   "nbconvert_exporter": "python",
   "pygments_lexer": "ipython3",
   "version": "3.12.2"
  }
 },
 "nbformat": 4,
 "nbformat_minor": 2
}
