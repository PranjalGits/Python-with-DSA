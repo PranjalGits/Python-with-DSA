{
 "cells": [
  {
   "cell_type": "code",
   "execution_count": 13,
   "metadata": {},
   "outputs": [
    {
     "name": "stdout",
     "output_type": "stream",
     "text": [
      "Star of 6 is ['******', '******', '******', '******', '******', '******']\n",
      "None\n"
     ]
    }
   ],
   "source": [
    "def generate_square(n):\n",
    "    \n",
    "    square = []\n",
    "    \n",
    "    for i in range(n):\n",
    "        square.append(\"*\" * n)\n",
    "        \n",
    "    \n",
    "    print(f\"Star of {n} is {square}\")\n",
    "        \n",
    "\n",
    "\n",
    "## Function Calling\n",
    "\n",
    "n = 6\n",
    "print(generate_square(n))\n"
   ]
  },
  {
   "cell_type": "code",
   "execution_count": 14,
   "metadata": {},
   "outputs": [
    {
     "name": "stdout",
     "output_type": "stream",
     "text": [
      "******\n",
      "******\n",
      "******\n",
      "******\n",
      "******\n",
      "******\n",
      "None\n"
     ]
    }
   ],
   "source": [
    "## Another Way\n",
    "\n",
    "def generate_square_1(n):\n",
    "  for i in range(n):\n",
    "    print(\"*\" * n)\n",
    "\n",
    "\n",
    "## Function Calling\n",
    "\n",
    "n = 6\n",
    "print(generate_square_1(n))"
   ]
  },
  {
   "cell_type": "code",
   "execution_count": null,
   "metadata": {},
   "outputs": [],
   "source": []
  }
 ],
 "metadata": {
  "kernelspec": {
   "display_name": "Python 3",
   "language": "python",
   "name": "python3"
  },
  "language_info": {
   "codemirror_mode": {
    "name": "ipython",
    "version": 3
   },
   "file_extension": ".py",
   "mimetype": "text/x-python",
   "name": "python",
   "nbconvert_exporter": "python",
   "pygments_lexer": "ipython3",
   "version": "3.12.2"
  }
 },
 "nbformat": 4,
 "nbformat_minor": 2
}
