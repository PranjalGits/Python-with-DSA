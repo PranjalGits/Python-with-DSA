{
  "nbformat": 4,
  "nbformat_minor": 0,
  "metadata": {
    "colab": {
      "provenance": [],
      "authorship_tag": "ABX9TyPasX8GzDb3qUr/CWPw4W3h",
      "include_colab_link": true
    },
    "kernelspec": {
      "name": "python3",
      "display_name": "Python 3"
    },
    "language_info": {
      "name": "python"
    }
  },
  "cells": [
    {
      "cell_type": "markdown",
      "metadata": {
        "id": "view-in-github",
        "colab_type": "text"
      },
      "source": [
        "<a href=\"https://colab.research.google.com/github/PranjalGits/Python-with-DSA/blob/main/Untitled0.ipynb\" target=\"_parent\"><img src=\"https://colab.research.google.com/assets/colab-badge.svg\" alt=\"Open In Colab\"/></a>"
      ]
    },
    {
      "cell_type": "code",
      "execution_count": null,
      "metadata": {
        "id": "PVrdEjat_RPU"
      },
      "outputs": [],
      "source": [
        "def generate_hollow_square(n):\n",
        "    \"\"\"\n",
        "    Function to return a hollow square pattern of '*' of side n as a list of strings.\n",
        "\n",
        "    Parameters:\n",
        "    n (int): The size of the square.\n",
        "\n",
        "    Returns:\n",
        "    list: A list of strings where each string represents a row of the hollow square.\n",
        "    \"\"\"\n",
        "    square = []\n",
        "\n",
        "    if n == 1:\n",
        "        print([\"*\"])\n",
        "\n",
        "    else:\n",
        "        square.append(\"*\"*n)\n",
        "\n",
        "    for i in range(n-2):\n",
        "        square.append(\"*\" + \" \"*(n-2) + \"*\")\n",
        "\n",
        "    square.append(\"*\"*n)\n",
        "    return square\n"
      ]
    },
    {
      "cell_type": "code",
      "source": [
        "generate_hollow_square(1)"
      ],
      "metadata": {
        "colab": {
          "base_uri": "https://localhost:8080/"
        },
        "id": "5TqOfHfx_Uax",
        "outputId": "fa4ff8fb-7584-423f-a889-b5da4470c0dc"
      },
      "execution_count": null,
      "outputs": [
        {
          "output_type": "stream",
          "name": "stdout",
          "text": [
            "['*']\n"
          ]
        },
        {
          "output_type": "execute_result",
          "data": {
            "text/plain": [
              "['*']"
            ]
          },
          "metadata": {},
          "execution_count": 8
        }
      ]
    },
    {
      "cell_type": "code",
      "source": [
        "generate_hollow_square(3)"
      ],
      "metadata": {
        "colab": {
          "base_uri": "https://localhost:8080/"
        },
        "id": "Y3D0zzYM_cPx",
        "outputId": "9363e25e-cab4-43eb-9f28-173e41a83b33"
      },
      "execution_count": null,
      "outputs": [
        {
          "output_type": "execute_result",
          "data": {
            "text/plain": [
              "['***', '* *', '***']"
            ]
          },
          "metadata": {},
          "execution_count": 9
        }
      ]
    },
    {
      "cell_type": "code",
      "source": [
        "generate_hollow_square(5)"
      ],
      "metadata": {
        "colab": {
          "base_uri": "https://localhost:8080/"
        },
        "id": "P0o3CT5x_eAI",
        "outputId": "9cdc792c-fb07-4f09-df2d-76b95ca7c465"
      },
      "execution_count": null,
      "outputs": [
        {
          "output_type": "execute_result",
          "data": {
            "text/plain": [
              "['*****', '*   *', '*   *', '*   *', '*****']"
            ]
          },
          "metadata": {},
          "execution_count": 10
        }
      ]
    },
    {
      "cell_type": "code",
      "source": [],
      "metadata": {
        "colab": {
          "base_uri": "https://localhost:8080/"
        },
        "id": "QppZzLxw_0Ac",
        "outputId": "20093c72-7438-4f16-e0eb-84c316eaafb3"
      },
      "execution_count": null,
      "outputs": [
        {
          "output_type": "stream",
          "name": "stdout",
          "text": [
            "Star of 3 is ['***', '***', '***']\n",
            "None\n"
          ]
        }
      ]
    },
    {
      "cell_type": "code",
      "source": [
        "def generate_square(n):\n",
        "    \"\"\"\n",
        "    Function to return a square pattern of '*' of side n as a list of strings.\n",
        "\n",
        "    Parameters:\n",
        "    n (int): The size of the square.\n",
        "\n",
        "    Returns:\n",
        "    list: A list of strings where each string represents a row of the square.\n",
        "    \"\"\"\n",
        "    # Your code here\n",
        "\n",
        "\n",
        "\n",
        "    for i in range(n):\n",
        "        print(\"*\"*n)\n",
        "\n",
        "\n",
        "\n",
        "\n",
        "\n",
        "\n",
        "## Function Calling\n",
        "\n",
        "n = 4\n",
        "print(generate_square(3))\n"
      ],
      "metadata": {
        "id": "AWBqVfDzE4XD"
      },
      "execution_count": null,
      "outputs": []
    },
    {
      "cell_type": "code",
      "source": [
        "def right_angle_triangle(n):\n",
        "  if n == 1:\n",
        "    print(\"*\")\n",
        "  else:\n",
        "    for i in range(n):\n",
        "      print(\"*\"*(i+1))"
      ],
      "metadata": {
        "id": "Ci4yMACvFE-U"
      },
      "execution_count": null,
      "outputs": []
    },
    {
      "cell_type": "code",
      "source": [
        "right_angle_triangle(5)"
      ],
      "metadata": {
        "colab": {
          "base_uri": "https://localhost:8080/"
        },
        "id": "sHzHGmnYFh-x",
        "outputId": "9642cf40-058c-4318-bd64-2121c47c245b"
      },
      "execution_count": null,
      "outputs": [
        {
          "output_type": "stream",
          "name": "stdout",
          "text": [
            "*\n",
            "**\n",
            "***\n",
            "****\n",
            "*****\n"
          ]
        }
      ]
    },
    {
      "cell_type": "code",
      "source": [
        "def right_angle_triangle_2(n):\n",
        "  triangle = []\n",
        "\n",
        "  if n == 1:\n",
        "    triangle.append(\"*\")\n",
        "  else:\n",
        "    for i in range(n):\n",
        "      triangle.append(\"*\"*(i+1))\n",
        "  return triangle"
      ],
      "metadata": {
        "id": "u5uhBs-aFjyZ"
      },
      "execution_count": null,
      "outputs": []
    },
    {
      "cell_type": "code",
      "source": [
        "right_angle_triangle_2(5)"
      ],
      "metadata": {
        "id": "V_bJ3-dzGGVM",
        "outputId": "79594128-be39-41b3-e369-9f28c76d37e8",
        "colab": {
          "base_uri": "https://localhost:8080/"
        }
      },
      "execution_count": null,
      "outputs": [
        {
          "output_type": "execute_result",
          "data": {
            "text/plain": [
              "['*', '**', '***', '****', '*****']"
            ]
          },
          "metadata": {},
          "execution_count": 19
        }
      ]
    },
    {
      "cell_type": "code",
      "source": [
        "def hollow_right_anglr_triangle(n):\n",
        "  if n == 1:\n",
        "    print(\"*\")\n",
        "\n",
        "  elif n == 2:\n",
        "    print(\"*\")\n",
        "    print(\"**\")\n",
        "\n",
        "  else:\n",
        "    for i in range(n):\n",
        "      if i == 0:\n",
        "        print(\"*\")\n",
        "      elif i == n-1:\n",
        "        print(\"*\"*(i+1))\n",
        "      else:\n",
        "        print(\"*\" + \" \"*(i-1) + \"*\")"
      ],
      "metadata": {
        "id": "s_SuXy5XGJUO"
      },
      "execution_count": 23,
      "outputs": []
    },
    {
      "cell_type": "code",
      "source": [
        "hollow_right_anglr_triangle(5)"
      ],
      "metadata": {
        "colab": {
          "base_uri": "https://localhost:8080/"
        },
        "id": "fLZTLSf7PYkd",
        "outputId": "5e73357b-2083-47ef-92fc-6d24b9d03925"
      },
      "execution_count": 25,
      "outputs": [
        {
          "output_type": "stream",
          "name": "stdout",
          "text": [
            "*\n",
            "**\n",
            "* *\n",
            "*  *\n",
            "*****\n"
          ]
        }
      ]
    },
    {
      "cell_type": "code",
      "source": [],
      "metadata": {
        "id": "4RB9V6lOPb-o"
      },
      "execution_count": null,
      "outputs": []
    }
  ]
}